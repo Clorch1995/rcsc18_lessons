{
 "cells": [
  {
   "cell_type": "markdown",
   "metadata": {},
   "source": [
    "# Analyzing Data from Multiple Files"
   ]
  },
  {
   "cell_type": "markdown",
   "metadata": {},
   "source": [
    "We now have almost everything we need to process all our data files.\n",
    "The only thing that's missing is a library with a rather unpleasant name:"
   ]
  },
  {
   "cell_type": "code",
   "execution_count": null,
   "metadata": {},
   "outputs": [],
   "source": [
    "import glob"
   ]
  },
  {
   "cell_type": "markdown",
   "metadata": {},
   "source": [
    "The `glob` library contains a function, also called `glob`,\n",
    "that finds files and directories whose names match a pattern.\n",
    "We provide those patterns as strings:\n",
    "the character `*` matches zero or more characters,\n",
    "while `?` matches any one character.\n",
    "We can use this to get the names of all the CSV files in the current directory:"
   ]
  },
  {
   "cell_type": "code",
   "execution_count": null,
   "metadata": {},
   "outputs": [],
   "source": [
    "print(glob.glob('inflammation*.csv'))"
   ]
  },
  {
   "cell_type": "markdown",
   "metadata": {},
   "source": [
    "As these examples show,\n",
    "`glob.glob`'s result is a list of file and directory paths in arbitrary order.\n",
    "This means we can loop over it\n",
    "to do something with each filename in turn.\n",
    "In our case,\n",
    "the \"something\" we want to do is generate a set of plots for each file in our inflammation dataset.\n",
    "If we want to start by analyzing just the first three files in alphabetical order, we can use the\n",
    "`sorted` built-in function to generate a new sorted list from the `glob.glob` output:"
   ]
  },
  {
   "cell_type": "code",
   "execution_count": null,
   "metadata": {},
   "outputs": [],
   "source": [
    "%matplotlib inline\n",
    "import numpy as np\n",
    "import matplotlib.pyplot as plt"
   ]
  },
  {
   "cell_type": "code",
   "execution_count": null,
   "metadata": {},
   "outputs": [],
   "source": [
    "filenames = sorted(glob.glob('inflammation*.csv'))\n",
    "filenames = filenames[0:3]\n",
    "for f in filenames:\n",
    "    print(f)\n",
    "\n",
    "    data = np.loadtxt(fname=f, delimiter=',')\n",
    "\n",
    "    fig = plt.figure(figsize=(10.0, 3.0))\n",
    "\n",
    "    axes1 = fig.add_subplot(1, 3, 1)\n",
    "    axes2 = fig.add_subplot(1, 3, 2)\n",
    "    axes3 = fig.add_subplot(1, 3, 3)\n",
    "\n",
    "    axes1.set_ylabel('average')\n",
    "    axes1.plot(np.mean(data, axis=0))\n",
    "\n",
    "    axes2.set_ylabel('max')\n",
    "    axes2.plot(np.max(data, axis=0))\n",
    "\n",
    "    axes3.set_ylabel('min')\n",
    "    axes3.plot(np.min(data, axis=0))\n",
    "\n",
    "    fig.tight_layout()\n",
    "    plt.show()"
   ]
  },
  {
   "cell_type": "markdown",
   "metadata": {},
   "source": [
    "Sure enough,\n",
    "the maxima of the first two data sets show exactly the same ramp as the first,\n",
    "and their minima show the same staircase structure;\n",
    "a different situation has been revealed in the third dataset,\n",
    "where the maxima are a bit less regular, but the minima are consistently zero."
   ]
  },
  {
   "cell_type": "markdown",
   "metadata": {},
   "source": [
    "\n",
    "<section class=\"challenge panel panel-success\">\n",
    "<div class=\"panel-heading\">\n",
    "<h2><span class=\"fa fa-pencil\"></span> Challenge: Plotting Differences</h2>\n",
    "</div>\n",
    "\n",
    "\n",
    "<div class=\"panel-body\">\n",
    "\n",
    "<p>Plot the difference between the average of the first dataset\n",
    "and the average of the second dataset,\n",
    "i.e., the difference between the leftmost plot of the first two figures.</p>\n",
    "\n",
    "</div>\n",
    "\n",
    "</section>\n"
   ]
  },
  {
   "cell_type": "markdown",
   "metadata": {},
   "source": [
    "\n",
    "<section class=\"solution panel panel-primary\">\n",
    "<div class=\"panel-heading\">\n",
    "<h2><span class=\"fa fa-eye\"></span> Solution</h2>\n",
    "</div>\n",
    "\n",
    "</section>\n"
   ]
  },
  {
   "cell_type": "code",
   "execution_count": null,
   "metadata": {},
   "outputs": [],
   "source": [
    "import glob\n",
    "import numpy as np\n",
    "import matplotlib.pyplot as plt\n",
    "\n",
    "filenames = sorted(glob.glob('inflammation*.csv'))\n",
    "\n",
    "data0 = np.loadtxt(fname=filenames[0], delimiter=',')\n",
    "data1 = np.loadtxt(fname=filenames[1], delimiter=',')\n",
    "\n",
    "fig = plt.figure(figsize=(10.0, 3.0))\n",
    "\n",
    "plt.ylabel('Difference in average')\n",
    "plt.plot(data0.mean(axis=0) - data1.mean(axis=0))\n",
    "\n",
    "fig.tight_layout()\n",
    "plt.show()"
   ]
  },
  {
   "cell_type": "markdown",
   "metadata": {},
   "source": [
    "\n",
    "<section class=\"challenge panel panel-success\">\n",
    "<div class=\"panel-heading\">\n",
    "<h2><span class=\"fa fa-pencil\"></span> Challenge: Generate Composite Statistics</h2>\n",
    "</div>\n",
    "\n",
    "\n",
    "<div class=\"panel-body\">\n",
    "\n",
    "<p>Use each of the files once to generate a dataset containing values averaged over all patients:</p>\n",
    "\n",
    "</div>\n",
    "\n",
    "</section>\n"
   ]
  },
  {
   "cell_type": "code",
   "execution_count": null,
   "metadata": {},
   "outputs": [],
   "source": [
    "filenames = glob.glob('inflammation*.csv')\n",
    "composite_data = numpy.zeros((60,40))\n",
    "for f in filenames:\n",
    "    # sum each new file's data into composite_data as it's read\n",
    "    #\n",
    "# and then divide the composite_data by number of samples\n",
    "composite_data /= len(filenames)"
   ]
  },
  {
   "cell_type": "markdown",
   "metadata": {},
   "source": [
    "Then use pyplot to generate average, max, and min for all patients."
   ]
  },
  {
   "cell_type": "markdown",
   "metadata": {},
   "source": [
    "\n",
    "<section class=\"solution panel panel-primary\">\n",
    "<div class=\"panel-heading\">\n",
    "<h2><span class=\"fa fa-eye\"></span> Solution</h2>\n",
    "</div>\n",
    "\n",
    "</section>\n"
   ]
  },
  {
   "cell_type": "code",
   "execution_count": null,
   "metadata": {},
   "outputs": [],
   "source": [
    "import glob\n",
    "import numpy\n",
    "import matplotlib.pyplot\n",
    "\n",
    "filenames = glob.glob('inflammation*.csv')\n",
    "composite_data = np.zeros((60,40))\n",
    "\n",
    "for f in filenames:\n",
    "    data = np.loadtxt(fname = f, delimiter=',')\n",
    "    composite_data += data\n",
    "\n",
    "composite_data/=len(filenames)\n",
    "\n",
    "fig = plt.figure(figsize=(10.0, 3.0))\n",
    "\n",
    "axes1 = fig.add_subplot(1, 3, 1)\n",
    "axes2 = fig.add_subplot(1, 3, 2)\n",
    "axes3 = fig.add_subplot(1, 3, 3)\n",
    "\n",
    "axes1.set_ylabel('average')\n",
    "axes1.plot(np.mean(composite_data, axis=0))\n",
    "\n",
    "axes2.set_ylabel('max')\n",
    "axes2.plot(np.max(composite_data, axis=0))\n",
    "\n",
    "axes3.set_ylabel('min')\n",
    "axes3.plot(np.min(composite_data, axis=0))\n",
    "\n",
    "fig.tight_layout()\n",
    "\n",
    "plt.show()"
   ]
  },
  {
   "cell_type": "markdown",
   "metadata": {},
   "source": [
    "---\n",
    "The material in this notebook is derived from the Software Carpentry lessons\n",
    "&copy; [Software Carpentry](http://software-carpentry.org/) under the terms\n",
    "of the [CC-BY 4.0](https://creativecommons.org/licenses/by/4.0/) license."
   ]
  }
 ],
 "metadata": {
  "kernelspec": {
   "display_name": "Python 3",
   "language": "python",
   "name": "python3"
  },
  "language_info": {
   "codemirror_mode": {
    "name": "ipython",
    "version": 3
   },
   "file_extension": ".py",
   "mimetype": "text/x-python",
   "name": "python",
   "nbconvert_exporter": "python",
   "pygments_lexer": "ipython3",
   "version": "3.6.6"
  },
  "name": "04-files.ipynb",
  "swc_attribution": true
 },
 "nbformat": 4,
 "nbformat_minor": 2
}
