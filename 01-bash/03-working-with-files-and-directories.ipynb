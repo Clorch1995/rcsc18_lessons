{
 "cells": [
  {
   "cell_type": "markdown",
   "metadata": {},
   "source": [
    "# Working with Files and Directories"
   ]
  },
  {
   "cell_type": "code",
   "execution_count": null,
   "metadata": {},
   "outputs": [],
   "source": []
  },
  {
   "cell_type": "markdown",
   "metadata": {},
   "source": [
    "We now know how to explore files and directories,\n",
    "but how do we create them in the first place?\n",
    "Let's go back to our `data-shell` directory on the Desktop\n",
    "and use `ls -F` to see what it contains:"
   ]
  },
  {
   "cell_type": "code",
   "execution_count": null,
   "metadata": {},
   "outputs": [],
   "source": []
  },
  {
   "cell_type": "code",
   "execution_count": null,
   "metadata": {},
   "outputs": [],
   "source": []
  },
  {
   "cell_type": "code",
   "execution_count": null,
   "metadata": {},
   "outputs": [],
   "source": []
  },
  {
   "cell_type": "markdown",
   "metadata": {},
   "source": [
    "Let's create a new directory called `thesis` using the command `mkdir thesis` (which has no output):"
   ]
  },
  {
   "cell_type": "code",
   "execution_count": null,
   "metadata": {},
   "outputs": [],
   "source": []
  },
  {
   "cell_type": "markdown",
   "metadata": {},
   "source": [
    "As you might guess from its name, `mkdir` means \"make directory\". Since `thesis`\n",
    "is a relative path (i.e., doesn't have a leading slash), the new directory is\n",
    "created in the current working directory:"
   ]
  },
  {
   "cell_type": "code",
   "execution_count": null,
   "metadata": {},
   "outputs": [],
   "source": []
  },
  {
   "cell_type": "markdown",
   "metadata": {},
   "source": [
    "\n",
    "<section class=\"callout panel panel-warning\">\n",
    "<div class=\"panel-heading\">\n",
    "<h2><span class=\"fa fa-thumb-tack\"></span> Two ways of doing the same thing</h2>\n",
    "</div>\n",
    "\n",
    "\n",
    "<div class=\"panel-body\">\n",
    "\n",
    "<p>Using the shell to create a directory is no different than using a file explorer.\n",
    "If you open the current directory using your operating system's graphical file explorer,\n",
    "the <code>thesis</code> directory will appear there too.\n",
    "While they are two different ways of interacting with the files,\n",
    "the files and directories themselves are the same.</p>\n",
    "\n",
    "</div>\n",
    "\n",
    "</section>\n"
   ]
  },
  {
   "cell_type": "markdown",
   "metadata": {},
   "source": [
    "\n",
    "<section class=\"callout panel panel-warning\">\n",
    "<div class=\"panel-heading\">\n",
    "<h2><span class=\"fa fa-thumb-tack\"></span> Good names for files and directories</h2>\n",
    "</div>\n",
    "\n",
    "\n",
    "<div class=\"panel-body\">\n",
    "\n",
    "<p>Complicated names of files and directories can make your life painful\n",
    "when working on the command line. Here we provide a few useful\n",
    "tips for the names of your files.</p>\n",
    "<ol>\n",
    "<li>Don't use whitespaces.</li>\n",
    "</ol>\n",
    "<p>Whitespaces can make a name more meaningful\n",
    "   but since whitespace is used to break arguments on the command line\n",
    "   it is better to avoid them in names of files and directories.\n",
    "   You can use <code>-</code> or <code>_</code> instead of whitespace.</p>\n",
    "<ol>\n",
    "<li>Don't begin the name with <code>-</code> (dash).</li>\n",
    "</ol>\n",
    "<p>Commands treat names starting with <code>-</code> as options.</p>\n",
    "<ol>\n",
    "<li>Stick with letters, numbers, <code>.</code> (period or 'full stop'), <code>-</code> (dash) and <code>_</code> (underscore).</li>\n",
    "</ol>\n",
    "<p>Many other characters have special meanings on the command line.\n",
    "   We will learn about some of these during this lesson.\n",
    "   There are special characters that can cause your command to not work as\n",
    "   expected and can even result in data loss.</p>\n",
    "<p>If you need to refer to names of files or directories that have whitespace\n",
    "or another non-alphanumeric character, you should surround the name in quotes (<code>\"\"</code>).</p>\n",
    "\n",
    "</div>\n",
    "\n",
    "</section>\n"
   ]
  },
  {
   "cell_type": "markdown",
   "metadata": {},
   "source": [
    "Since we've just created the `thesis` directory, there's nothing in it yet:"
   ]
  },
  {
   "cell_type": "code",
   "execution_count": null,
   "metadata": {},
   "outputs": [],
   "source": []
  },
  {
   "cell_type": "markdown",
   "metadata": {},
   "source": [
    "Let's change our working directory to `thesis` using `cd`,\n",
    "then run a text editor called Nano to create a file called `draft.txt`:"
   ]
  },
  {
   "cell_type": "code",
   "execution_count": null,
   "metadata": {},
   "outputs": [],
   "source": []
  },
  {
   "cell_type": "code",
   "execution_count": null,
   "metadata": {},
   "outputs": [],
   "source": []
  },
  {
   "cell_type": "markdown",
   "metadata": {},
   "source": [
    "\n",
    "<section class=\"callout panel panel-warning\">\n",
    "<div class=\"panel-heading\">\n",
    "<h2><span class=\"fa fa-thumb-tack\"></span> Which Editor?</h2>\n",
    "</div>\n",
    "\n",
    "\n",
    "<div class=\"panel-body\">\n",
    "\n",
    "<p>When we say, \"<code>nano</code> is a text editor,\" we really do mean \"text\": it can\n",
    "only work with plain character data, not tables, images, or any other\n",
    "human-friendly media. We use it in examples because it is one of the \n",
    "least complex text editors. However, because of this trait, it may \n",
    "not be powerful enough or flexible enough for the work you need to do\n",
    "after this workshop. On Unix systems (such as Linux and Mac OS X),\n",
    "many programmers use <a href=\"http://www.gnu.org/software/emacs/\">Emacs</a> or\n",
    "<a href=\"http://www.vim.org/\">Vim</a> (both of which require more time to learn), \n",
    "or a graphical editor such as\n",
    "<a href=\"http://projects.gnome.org/gedit/\">Gedit</a>. On Windows, you may wish to\n",
    "use <a href=\"http://notepad-plus-plus.org/\">Notepad++</a>.  Windows also has a built-in\n",
    "editor called <code>notepad</code> that can be run from the command line in the same\n",
    "way as <code>nano</code> for the purposes of this lesson.  </p>\n",
    "<p>No matter what editor you use, you will need to know where it searches\n",
    "for and saves files. If you start it from the shell, it will (probably)\n",
    "use your current working directory as its default location. If you use\n",
    "your computer's start menu, it may want to save files in your desktop or\n",
    "documents directory instead. You can change this by navigating to\n",
    "another directory the first time you \"Save As...\"</p>\n",
    "\n",
    "</div>\n",
    "\n",
    "</section>\n"
   ]
  },
  {
   "cell_type": "markdown",
   "metadata": {},
   "source": [
    "Let's type in a few lines of text.\n",
    "Once we're happy with our text, we can press `Ctrl-O` (press the Ctrl or Control key and, while\n",
    "holding it down, press the O key) to write our data to disk\n",
    "(we'll be asked what file we want to save this to:\n",
    "press Return to accept the suggested default of `draft.txt`).\n",
    "![Nano in Action](nano-screenshot.png)\n",
    "\n",
    "Once our file is saved, we can use `Ctrl-X` to quit the editor and\n",
    "return to the shell.\n"
   ]
  },
  {
   "cell_type": "markdown",
   "metadata": {},
   "source": [
    "\n",
    "<section class=\"callout panel panel-warning\">\n",
    "<div class=\"panel-heading\">\n",
    "<h2><span class=\"fa fa-thumb-tack\"></span> Control, Ctrl, or ^ Key</h2>\n",
    "</div>\n",
    "\n",
    "\n",
    "<div class=\"panel-body\">\n",
    "\n",
    "<p>The Control key is also called the \"Ctrl\" key. There are various ways\n",
    "in which using the Control key may be described. For example, you may\n",
    "see an instruction to press the Control key and, while holding it down,\n",
    "press the X key, described as any of:</p>\n",
    "<ul>\n",
    "<li><code>Control-X</code></li>\n",
    "<li><code>Control+X</code></li>\n",
    "<li><code>Ctrl-X</code></li>\n",
    "<li><code>Ctrl+X</code></li>\n",
    "<li><code>^X</code></li>\n",
    "<li><code>C-x</code></li>\n",
    "</ul>\n",
    "<p>In nano, along the bottom of the screen you'll see <code>^G Get Help ^O WriteOut</code>.\n",
    "This means that you can use <code>Control-G</code> to get help and <code>Control-O</code> to save your\n",
    "file.</p>\n",
    "\n",
    "</div>\n",
    "\n",
    "</section>\n"
   ]
  },
  {
   "cell_type": "markdown",
   "metadata": {},
   "source": [
    "`nano` doesn't leave any output on the screen after it exits,\n",
    "but `ls` now shows that we have created a file called `draft.txt`:"
   ]
  },
  {
   "cell_type": "code",
   "execution_count": null,
   "metadata": {},
   "outputs": [],
   "source": []
  },
  {
   "cell_type": "markdown",
   "metadata": {},
   "source": [
    "\n",
    "<section class=\"challenge panel panel-success\">\n",
    "<div class=\"panel-heading\">\n",
    "<h2><span class=\"fa fa-pencil\"></span> Creating Files a Different Way</h2>\n",
    "</div>\n",
    "\n",
    "\n",
    "<div class=\"panel-body\">\n",
    "\n",
    "<p>We have seen how to create text files using the <code>nano</code> editor.\n",
    "Now, try the following command in your home directory:</p>\n",
    "<div class=\"codehilite\"><pre><span></span>$ <span class=\"nb\">cd</span>                  <span class=\"c1\"># go to your home directory</span>\n",
    "$ touch my_file.txt\n",
    "</pre></div>\n",
    "\n",
    "\n",
    "<ol>\n",
    "<li>\n",
    "<p>What did the touch command do?\n",
    "    When you look at your home directory using the GUI file explorer,\n",
    "    does the file show up?</p>\n",
    "</li>\n",
    "<li>\n",
    "<p>Use <code>ls -l</code> to inspect the files.  How large is <code>my_file.txt</code>?</p>\n",
    "</li>\n",
    "<li>\n",
    "<p>When might you want to create a file this way?</p>\n",
    "</li>\n",
    "</ol>\n",
    "\n",
    "</div>\n",
    "\n",
    "</section>\n"
   ]
  },
  {
   "cell_type": "markdown",
   "metadata": {},
   "source": [
    "\n",
    "<section class=\"solution panel panel-primary\">\n",
    "<div class=\"panel-heading\">\n",
    "<h2><span class=\"fa fa-eye\"></span> Solution</h2>\n",
    "</div>\n",
    "\n",
    "\n",
    "<div class=\"panel-body\">\n",
    "\n",
    "<ol>\n",
    "<li>The touch command generates a new file called 'my_file.txt' in\n",
    "    your home directory.  If you are in your home directory, you\n",
    "    can observe this newly generated file by typing 'ls' at the \n",
    "    command line prompt.  'my_file.txt' can also be viewed in your\n",
    "    GUI file explorer.</li>\n",
    "<li>\n",
    "<p>When you inspect the file with 'ls -l', note that the size of\n",
    "    'my_file.txt' is 0kb.  In other words, it contains no data.\n",
    "    If you open 'my_file.txt' using your text editor it is blank.</p>\n",
    "</li>\n",
    "<li>\n",
    "<p>Some programs do not generate output files themselves, but\n",
    "    instead require that empty files have already been generated.\n",
    "    When the program is run, it searches for an existing file to\n",
    "    populate with its output.  The touch command allows you to\n",
    "    efficiently generate a blank text file to be used by such\n",
    "    programs.</p>\n",
    "</li>\n",
    "</ol>\n",
    "\n",
    "</div>\n",
    "\n",
    "</section>\n"
   ]
  },
  {
   "cell_type": "markdown",
   "metadata": {},
   "source": [
    "Returning to the `data-shell` directory,\n",
    "let's tidy up the `thesis` directory by removing the draft we created:"
   ]
  },
  {
   "cell_type": "code",
   "execution_count": null,
   "metadata": {},
   "outputs": [],
   "source": []
  },
  {
   "cell_type": "markdown",
   "metadata": {},
   "source": [
    "This command removes files (`rm` is short for \"remove\"). If we run `ls` again,\n",
    "its output is empty once more, which tells us that our file is gone:"
   ]
  },
  {
   "cell_type": "code",
   "execution_count": null,
   "metadata": {},
   "outputs": [],
   "source": []
  },
  {
   "cell_type": "markdown",
   "metadata": {},
   "source": [
    "\n",
    "<section class=\"callout panel panel-warning\">\n",
    "<div class=\"panel-heading\">\n",
    "<h2><span class=\"fa fa-thumb-tack\"></span> Deleting Is Forever</h2>\n",
    "</div>\n",
    "\n",
    "\n",
    "<div class=\"panel-body\">\n",
    "\n",
    "<p>The Unix shell doesn't have a trash bin that we can recover deleted\n",
    "files from (though most graphical interfaces to Unix do).  Instead,\n",
    "when we delete files, they are unhooked from the file system so that\n",
    "their storage space on disk can be recycled. Tools for finding and\n",
    "recovering deleted files do exist, but there's no guarantee they'll\n",
    "work in any particular situation, since the computer may recycle the\n",
    "file's disk space right away.</p>\n",
    "\n",
    "</div>\n",
    "\n",
    "</section>\n"
   ]
  },
  {
   "cell_type": "markdown",
   "metadata": {},
   "source": [
    "Let's re-create that file\n",
    "and then move up one directory to `/Users/nelle/Desktop/data-shell` using `cd ..`:"
   ]
  },
  {
   "cell_type": "code",
   "execution_count": null,
   "metadata": {},
   "outputs": [],
   "source": []
  },
  {
   "cell_type": "code",
   "execution_count": null,
   "metadata": {},
   "outputs": [],
   "source": []
  },
  {
   "cell_type": "code",
   "execution_count": null,
   "metadata": {},
   "outputs": [],
   "source": []
  },
  {
   "cell_type": "code",
   "execution_count": null,
   "metadata": {},
   "outputs": [],
   "source": []
  },
  {
   "cell_type": "markdown",
   "metadata": {},
   "source": [
    "If we try to remove the entire `thesis` directory using `rm thesis`,\n",
    "we get an error message:"
   ]
  },
  {
   "cell_type": "code",
   "execution_count": null,
   "metadata": {},
   "outputs": [],
   "source": []
  },
  {
   "cell_type": "markdown",
   "metadata": {},
   "source": [
    "This happens because `rm` by default only works on files, not directories.\n",
    "\n",
    "To really get rid of `thesis` we must also delete the file `draft.txt`.\n",
    "We can do this with the [recursive](https://en.wikipedia.org/wiki/Recursion) option for `rm`:"
   ]
  },
  {
   "cell_type": "code",
   "execution_count": null,
   "metadata": {},
   "outputs": [],
   "source": []
  },
  {
   "cell_type": "markdown",
   "metadata": {},
   "source": [
    "\n",
    "<section class=\"challenge panel panel-success\">\n",
    "<div class=\"panel-heading\">\n",
    "<h2><span class=\"fa fa-pencil\"></span> Using `rm` Safely</h2>\n",
    "</div>\n",
    "\n",
    "\n",
    "<div class=\"panel-body\">\n",
    "\n",
    "<p>What happens when we type <code>rm -i thesis/quotations.txt</code>?\n",
    "Why would we want this protection when using <code>rm</code>?</p>\n",
    "\n",
    "</div>\n",
    "\n",
    "</section>\n"
   ]
  },
  {
   "cell_type": "markdown",
   "metadata": {},
   "source": [
    "\n",
    "<section class=\"solution panel panel-primary\">\n",
    "<div class=\"panel-heading\">\n",
    "<h2><span class=\"fa fa-eye\"></span> Solution</h2>\n",
    "</div>\n",
    "\n",
    "\n",
    "<div class=\"panel-body\">\n",
    "\n",
    "<div class=\"codehilite\"><pre><span></span>$ rm: remove regular file <span class=\"s1\">&#39;thesis/quotations.txt&#39;</span>?\n",
    "</pre></div>\n",
    "\n",
    "\n",
    "<p>The -i option will prompt before every removal. \n",
    "The Unix shell doesn't have a trash bin, so all the files removed will disappear forever. \n",
    "By using the -i flag, we have the chance to check that we are deleting only the files that we want to remove.</p>\n",
    "\n",
    "</div>\n",
    "\n",
    "</section>\n"
   ]
  },
  {
   "cell_type": "markdown",
   "metadata": {},
   "source": [
    "\n",
    "<section class=\"callout panel panel-warning\">\n",
    "<div class=\"panel-heading\">\n",
    "<h2><span class=\"fa fa-thumb-tack\"></span> With Great Power Comes Great Responsibility</h2>\n",
    "</div>\n",
    "\n",
    "\n",
    "<div class=\"panel-body\">\n",
    "\n",
    "<p>Removing the files in a directory recursively can be a very dangerous\n",
    "operation. If we're concerned about what we might be deleting we can\n",
    "add the \"interactive\" flag <code>-i</code> to <code>rm</code> which will ask us for confirmation\n",
    "before each step</p>\n",
    "<div class=\"codehilite\"><pre><span></span>$ rm -r -i thesis\n",
    "rm: descend into directory ‘thesis’? y\n",
    "rm: remove regular file ‘thesis/draft.txt’? y\n",
    "rm: remove directory ‘thesis’? y\n",
    "</pre></div>\n",
    "\n",
    "\n",
    "<p>This removes everything in the directory, then the directory itself, asking\n",
    "at each step for you to confirm the deletion.</p>\n",
    "\n",
    "</div>\n",
    "\n",
    "</section>\n"
   ]
  },
  {
   "cell_type": "markdown",
   "metadata": {},
   "source": [
    "Let's create that directory and file one more time.\n",
    "(Note that this time we're running `nano` with the path `thesis/draft.txt`,\n",
    "rather than going into the `thesis` directory and running `nano` on `draft.txt` there.)"
   ]
  },
  {
   "cell_type": "code",
   "execution_count": null,
   "metadata": {},
   "outputs": [],
   "source": []
  },
  {
   "cell_type": "code",
   "execution_count": null,
   "metadata": {},
   "outputs": [],
   "source": []
  },
  {
   "cell_type": "code",
   "execution_count": null,
   "metadata": {},
   "outputs": [],
   "source": []
  },
  {
   "cell_type": "code",
   "execution_count": null,
   "metadata": {},
   "outputs": [],
   "source": []
  },
  {
   "cell_type": "code",
   "execution_count": null,
   "metadata": {},
   "outputs": [],
   "source": []
  },
  {
   "cell_type": "markdown",
   "metadata": {},
   "source": [
    "`draft.txt` isn't a particularly informative name,\n",
    "so let's change the file's name using `mv`,\n",
    "which is short for \"move\":"
   ]
  },
  {
   "cell_type": "code",
   "execution_count": null,
   "metadata": {},
   "outputs": [],
   "source": []
  },
  {
   "cell_type": "markdown",
   "metadata": {},
   "source": [
    "The first argument tells `mv` what we're \"moving\",\n",
    "while the second is where it's to go.\n",
    "In this case,\n",
    "we're moving `thesis/draft.txt` to `thesis/quotes.txt`,\n",
    "which has the same effect as renaming the file.\n",
    "Sure enough,\n",
    "`ls` shows us that `thesis` now contains one file called `quotes.txt`:"
   ]
  },
  {
   "cell_type": "code",
   "execution_count": null,
   "metadata": {},
   "outputs": [],
   "source": []
  },
  {
   "cell_type": "markdown",
   "metadata": {},
   "source": [
    "The effect is to move the file from the directory it was in to the current working directory.\n",
    "`ls` now shows us that `thesis` is empty:"
   ]
  },
  {
   "cell_type": "code",
   "execution_count": null,
   "metadata": {},
   "outputs": [],
   "source": []
  },
  {
   "cell_type": "markdown",
   "metadata": {},
   "source": [
    "One has to be careful when specifying the target file name, since `mv` will\n",
    "silently overwrite any existing file with the same name, which could\n",
    "lead to data loss. An additional flag, `mv -i` (or `mv --interactive`),\n",
    "can be used to make `mv` ask you for confirmation before overwriting.\n",
    "\n",
    "Just for the sake of consistency,\n",
    "`mv` also works on directories\n",
    "\n",
    "Let's move `quotes.txt` into the current working directory.\n",
    "We use `mv` once again,\n",
    "but this time we'll just use the name of a directory as the second argument\n",
    "to tell `mv` that we want to keep the filename,\n",
    "but put the file somewhere new.\n",
    "(This is why the command is called \"move\".)\n",
    "In this case,\n",
    "the directory name we use is the special directory name `.` that we mentioned earlier."
   ]
  },
  {
   "cell_type": "code",
   "execution_count": null,
   "metadata": {},
   "outputs": [],
   "source": []
  },
  {
   "cell_type": "markdown",
   "metadata": {},
   "source": [
    "Further,\n",
    "`ls` with a filename or directory name as an argument only lists that file or directory.\n",
    "We can use this to see that `quotes.txt` is still in our current directory:"
   ]
  },
  {
   "cell_type": "code",
   "execution_count": null,
   "metadata": {},
   "outputs": [],
   "source": []
  },
  {
   "cell_type": "markdown",
   "metadata": {},
   "source": [
    "\n",
    "<section class=\"challenge panel panel-success\">\n",
    "<div class=\"panel-heading\">\n",
    "<h2><span class=\"fa fa-pencil\"></span> Moving to the Current Folder</h2>\n",
    "</div>\n",
    "\n",
    "\n",
    "<div class=\"panel-body\">\n",
    "\n",
    "<p>After running the following commands,\n",
    "Jamie realizes that she put the files <code>sucrose.dat</code> and <code>maltose.dat</code> into the wrong folder:</p>\n",
    "<div class=\"codehilite\"><pre><span></span>$ ls -F\n",
    " analyzed/ raw/\n",
    "$ ls -F analyzed\n",
    "fructose.dat glucose.dat maltose.dat sucrose.dat\n",
    "$ <span class=\"nb\">cd</span> raw/\n",
    "</pre></div>\n",
    "\n",
    "\n",
    "<p>Fill in the blanks to move these files to the current folder\n",
    "(i.e., the one she is currently in):</p>\n",
    "<div class=\"codehilite\"><pre><span></span>$ mv ___/sucrose.dat  ___/maltose.dat ___\n",
    "</pre></div>\n",
    "\n",
    "</div>\n",
    "\n",
    "</section>\n"
   ]
  },
  {
   "cell_type": "markdown",
   "metadata": {},
   "source": [
    "\n",
    "<section class=\"solution panel panel-primary\">\n",
    "<div class=\"panel-heading\">\n",
    "<h2><span class=\"fa fa-eye\"></span> Solution</h2>\n",
    "</div>\n",
    "\n",
    "\n",
    "<div class=\"panel-body\">\n",
    "\n",
    "<div class=\"codehilite\"><pre><span></span>$ mv ../analyzed/sucrose.dat ../analyzed/maltose.dat .\n",
    "</pre></div>\n",
    "\n",
    "\n",
    "<p>Recall that <code>..</code> refers to the parent directory (i.e. one above the current directory)\n",
    "and that <code>.</code> refers to the current directory.</p>\n",
    "\n",
    "</div>\n",
    "\n",
    "</section>\n"
   ]
  },
  {
   "cell_type": "markdown",
   "metadata": {},
   "source": [
    "The `cp` command works very much like `mv`,\n",
    "except it copies a file instead of moving it.\n",
    "We can check that it did the right thing using `ls`\n",
    "with two paths as arguments --- like most Unix commands,\n",
    "`ls` can be given multiple paths at once:"
   ]
  },
  {
   "cell_type": "code",
   "execution_count": null,
   "metadata": {},
   "outputs": [],
   "source": []
  },
  {
   "cell_type": "code",
   "execution_count": null,
   "metadata": {},
   "outputs": [],
   "source": []
  },
  {
   "cell_type": "markdown",
   "metadata": {},
   "source": [
    "To prove that we made a copy,\n",
    "let's delete the `quotes.txt` file in the current directory\n",
    "and then run that same `ls` again."
   ]
  },
  {
   "cell_type": "code",
   "execution_count": null,
   "metadata": {},
   "outputs": [],
   "source": []
  },
  {
   "cell_type": "code",
   "execution_count": null,
   "metadata": {},
   "outputs": [],
   "source": []
  },
  {
   "cell_type": "markdown",
   "metadata": {},
   "source": [
    "This time it tells us that it can't find `quotes.txt` in the current directory,\n",
    "but it does find the copy in `thesis` that we didn't delete."
   ]
  },
  {
   "cell_type": "markdown",
   "metadata": {},
   "source": [
    "\n",
    "<section class=\"callout panel panel-warning\">\n",
    "<div class=\"panel-heading\">\n",
    "<h2><span class=\"fa fa-thumb-tack\"></span> What's In A Name?</h2>\n",
    "</div>\n",
    "\n",
    "\n",
    "<div class=\"panel-body\">\n",
    "\n",
    "<p>You may have noticed that all of Nelle's files' names are \"something dot\n",
    "something\", and in this part of the lesson, we always used the extension\n",
    "<code>.txt</code>.  This is just a convention: we can call a file <code>mythesis</code> or\n",
    "almost anything else we want. However, most people use two-part names\n",
    "most of the time to help them (and their programs) tell different kinds\n",
    "of files apart. The second part of such a name is called the\n",
    "<strong>filename extension</strong>, and indicates\n",
    "what type of data the file holds: <code>.txt</code> signals a plain text file, <code>.pdf</code>\n",
    "indicates a PDF document, <code>.cfg</code> is a configuration file full of parameters\n",
    "for some program or other, <code>.png</code> is a PNG image, and so on.</p>\n",
    "<p>This is just a convention, albeit an important one. Files contain\n",
    "bytes: it's up to us and our programs to interpret those bytes\n",
    "according to the rules for plain text files, PDF documents, configuration\n",
    "files, images, and so on.</p>\n",
    "<p>Naming a PNG image of a whale as <code>whale.mp3</code> doesn't somehow\n",
    "magically turn it into a recording of whalesong, though it <em>might</em>\n",
    "cause the operating system to try to open it with a music player\n",
    "when someone double-clicks it.</p>\n",
    "\n",
    "</div>\n",
    "\n",
    "</section>\n"
   ]
  },
  {
   "cell_type": "markdown",
   "metadata": {},
   "source": [
    "\n",
    "<section class=\"challenge panel panel-success\">\n",
    "<div class=\"panel-heading\">\n",
    "<h2><span class=\"fa fa-pencil\"></span> Renaming Files</h2>\n",
    "</div>\n",
    "\n",
    "\n",
    "<div class=\"panel-body\">\n",
    "\n",
    "<p>Suppose that you created a <code>.txt</code> file in your current directory to contain a list of the\n",
    "statistical tests you will need to do to analyze your data, and named it: <code>statstics.txt</code>\n",
    "After creating and saving this file you realize you misspelled the filename! You want to\n",
    "correct the mistake, which of the following commands could you use to do so?</p>\n",
    "<ol>\n",
    "<li><code>cp statstics.txt statistics.txt</code></li>\n",
    "<li><code>mv statstics.txt statistics.txt</code></li>\n",
    "<li><code>mv statstics.txt .</code></li>\n",
    "<li><code>cp statstics.txt .</code></li>\n",
    "</ol>\n",
    "\n",
    "</div>\n",
    "\n",
    "</section>\n"
   ]
  },
  {
   "cell_type": "markdown",
   "metadata": {},
   "source": [
    "\n",
    "<section class=\"solution panel panel-primary\">\n",
    "<div class=\"panel-heading\">\n",
    "<h2><span class=\"fa fa-eye\"></span> Solution</h2>\n",
    "</div>\n",
    "\n",
    "\n",
    "<div class=\"panel-body\">\n",
    "\n",
    "<ol>\n",
    "<li>No.  While this would create a file with the correct name, the incorrectly named file still exists in the directory\n",
    "and would need to be deleted.</li>\n",
    "<li>Yes, this would work to rename the file.</li>\n",
    "<li>No, the period(.) indicates where to move the file, but does not provide a new file name; identical file names\n",
    "cannot be created.</li>\n",
    "<li>No, the period(.) indicates where to copy the file, but does not provide a new file name; identical file names\n",
    "cannot be created.</li>\n",
    "</ol>\n",
    "\n",
    "</div>\n",
    "\n",
    "</section>\n"
   ]
  },
  {
   "cell_type": "markdown",
   "metadata": {},
   "source": [
    "\n",
    "<section class=\"challenge panel panel-success\">\n",
    "<div class=\"panel-heading\">\n",
    "<h2><span class=\"fa fa-pencil\"></span> Moving and Copying</h2>\n",
    "</div>\n",
    "\n",
    "\n",
    "<div class=\"panel-body\">\n",
    "\n",
    "<p>What is the output of the closing <code>ls</code> command in the sequence shown below?</p>\n",
    "<div class=\"codehilite\"><pre><span></span>$ <span class=\"nb\">pwd</span>\n",
    "</pre></div>\n",
    "\n",
    "\n",
    "<div class=\"codehilite\"><pre><span></span>/Users/jamie/data\n",
    "</pre></div>\n",
    "\n",
    "\n",
    "<div class=\"codehilite\"><pre><span></span>$ ls\n",
    "</pre></div>\n",
    "\n",
    "\n",
    "<div class=\"codehilite\"><pre><span></span>proteins.dat\n",
    "</pre></div>\n",
    "\n",
    "\n",
    "<div class=\"codehilite\"><pre><span></span>$ mkdir recombine\n",
    "$ mv proteins.dat recombine/\n",
    "$ cp recombine/proteins.dat ../proteins-saved.dat\n",
    "$ ls\n",
    "</pre></div>\n",
    "\n",
    "\n",
    "<ol>\n",
    "<li><code>proteins-saved.dat recombine</code></li>\n",
    "<li><code>recombine</code></li>\n",
    "<li><code>proteins.dat recombine</code></li>\n",
    "<li><code>proteins-saved.dat</code></li>\n",
    "</ol>\n",
    "\n",
    "</div>\n",
    "\n",
    "</section>\n"
   ]
  },
  {
   "cell_type": "markdown",
   "metadata": {},
   "source": [
    "\n",
    "<section class=\"solution panel panel-primary\">\n",
    "<div class=\"panel-heading\">\n",
    "<h2><span class=\"fa fa-eye\"></span> Solution</h2>\n",
    "</div>\n",
    "\n",
    "\n",
    "<div class=\"panel-body\">\n",
    "\n",
    "<p>We start in the <code>/Users/jamie/data</code> directory, and create a new folder called <code>recombine</code>.\n",
    "The second line moves (<code>mv</code>) the file <code>proteins.dat</code> to the new folder (<code>recombine</code>).\n",
    "The third line makes a copy of the file we just moved.  The tricky part here is where the file was\n",
    "copied to.  Recall that <code>..</code> means \"go up a level\", so the copied file is now in <code>/Users/jamie</code>.\n",
    "Notice that <code>..</code> is interpreted with respect to the current working\n",
    "directory, <strong>not</strong> with respect to the location of the file being copied.\n",
    "So, the only thing that will show using ls (in <code>/Users/jamie/data</code>) is the recombine folder.</p>\n",
    "<ol>\n",
    "<li>No, see explanation above.  <code>proteins-saved.dat</code> is located at <code>/Users/jamie</code></li>\n",
    "<li>Yes</li>\n",
    "<li>No, see explanation above.  <code>proteins.dat</code> is located at <code>/Users/jamie/data/recombine</code></li>\n",
    "<li>No, see explanation above.  <code>proteins-saved.dat</code> is located at <code>/Users/jamie</code></li>\n",
    "</ol>\n",
    "\n",
    "</div>\n",
    "\n",
    "</section>\n"
   ]
  },
  {
   "cell_type": "markdown",
   "metadata": {},
   "source": [
    "\n",
    "<section class=\"challange panel panel-success\">\n",
    "<div class=\"panel-heading\">\n",
    "<h2><span class=\"fa fa-pencil\"></span> Organizing Directories and Files</h2>\n",
    "</div>\n",
    "\n",
    "\n",
    "<div class=\"panel-body\">\n",
    "\n",
    "<p>Jamie is working on a project and she sees that her files aren't very well\n",
    "organized:</p>\n",
    "<div class=\"codehilite\"><pre><span></span>$ ls -F\n",
    "</pre></div>\n",
    "\n",
    "\n",
    "<div class=\"codehilite\"><pre><span></span>analyzed/  fructose.dat    raw/   sucrose.dat\n",
    "</pre></div>\n",
    "\n",
    "\n",
    "<p>The <code>fructose.dat</code> and <code>sucrose.dat</code> files contain output from her data\n",
    "analysis. What command(s) covered in this lesson does she need to run so that the commands below will\n",
    "produce the output shown?</p>\n",
    "<div class=\"codehilite\"><pre><span></span>$ ls -F\n",
    "</pre></div>\n",
    "\n",
    "\n",
    "<div class=\"codehilite\"><pre><span></span>analyzed/   raw/\n",
    "</pre></div>\n",
    "\n",
    "\n",
    "<div class=\"codehilite\"><pre><span></span>$ ls analyzed\n",
    "</pre></div>\n",
    "\n",
    "\n",
    "<div class=\"codehilite\"><pre><span></span>fructose.dat    sucrose.dat\n",
    "</pre></div>\n",
    "\n",
    "</div>\n",
    "\n",
    "</section>\n"
   ]
  },
  {
   "cell_type": "markdown",
   "metadata": {},
   "source": [
    "\n",
    "<section class=\"solution panel panel-primary\">\n",
    "<div class=\"panel-heading\">\n",
    "<h2><span class=\"fa fa-eye\"></span> Solution</h2>\n",
    "</div>\n",
    "\n",
    "\n",
    "<div class=\"panel-body\">\n",
    "\n",
    "<div class=\"codehilite\"><pre><span></span>mv *.dat analyzed\n",
    "</pre></div>\n",
    "\n",
    "\n",
    "<p>Jamie needs to move her files <code>fructose.dat</code> and <code>sucrose.dat</code> to the <code>analyzed</code> directory.\n",
    "The shell will expand *.dat to match all .dat files in the current directory.\n",
    "The <code>mv</code> command then moves the list of .dat files to the \"analyzed\" directory.</p>\n",
    "\n",
    "</div>\n",
    "\n",
    "</section>\n"
   ]
  },
  {
   "cell_type": "markdown",
   "metadata": {},
   "source": [
    "\n",
    "<section class=\"challange panel panel-success\">\n",
    "<div class=\"panel-heading\">\n",
    "<h2><span class=\"fa fa-pencil\"></span> Copy with Multiple Filenames</h2>\n",
    "</div>\n",
    "\n",
    "\n",
    "<div class=\"panel-body\">\n",
    "\n",
    "<p>For this exercise, you can test the commands in the <code>data-shell/data</code> directory.</p>\n",
    "<p>In the example below, what does <code>cp</code> do when given several filenames and a directory name?</p>\n",
    "<div class=\"codehilite\"><pre><span></span>$ mkdir backup\n",
    "$ cp amino-acids.txt animals.txt backup/\n",
    "</pre></div>\n",
    "\n",
    "\n",
    "<p>In the example below, what does <code>cp</code> do when given three or more file names?</p>\n",
    "<div class=\"codehilite\"><pre><span></span>$ ls -F\n",
    "</pre></div>\n",
    "\n",
    "\n",
    "<div class=\"codehilite\"><pre><span></span>amino-acids.txt  animals.txt  backup/  elements/  morse.txt  pdb/  planets.txt  salmon.txt  sunspot.txt\n",
    "</pre></div>\n",
    "\n",
    "\n",
    "<div class=\"codehilite\"><pre><span></span>$ cp amino-acids.txt animals.txt morse.txt \n",
    "</pre></div>\n",
    "\n",
    "</div>\n",
    "\n",
    "</section>\n"
   ]
  },
  {
   "cell_type": "markdown",
   "metadata": {},
   "source": [
    "\n",
    "<section class=\"solution panel panel-primary\">\n",
    "<div class=\"panel-heading\">\n",
    "<h2><span class=\"fa fa-eye\"></span> Solution</h2>\n",
    "</div>\n",
    "\n",
    "\n",
    "<div class=\"panel-body\">\n",
    "\n",
    "<p>If given more than one file name followed by a directory name (i.e. the destination directory must \n",
    "be the last argument), <code>cp</code> copies the files to the named directory.</p>\n",
    "<p>If given three file names, <code>cp</code> throws an error because it is expecting a directory\n",
    "name as the last argument.</p>\n",
    "<div class=\"codehilite\"><pre><span></span><span class=\"n\">cp</span><span class=\"o\">:</span> <span class=\"n\">target</span> <span class=\"err\">‘</span><span class=\"n\">morse</span><span class=\"o\">.</span><span class=\"na\">txt</span><span class=\"err\">’</span> <span class=\"k\">is</span> <span class=\"n\">not</span> <span class=\"n\">a</span> <span class=\"n\">directory</span>\n",
    "</pre></div>\n",
    "\n",
    "</div>\n",
    "\n",
    "</section>\n"
   ]
  },
  {
   "cell_type": "markdown",
   "metadata": {},
   "source": [
    "\n",
    "<section class=\"challange panel panel-success\">\n",
    "<div class=\"panel-heading\">\n",
    "<h2><span class=\"fa fa-pencil\"></span> Copy a folder structure but not the files</h2>\n",
    "</div>\n",
    "\n",
    "\n",
    "<div class=\"panel-body\">\n",
    "\n",
    "<p>You're starting a new experiment, and would like to duplicate the file\n",
    "structure from your previous experiment without the data files so you can\n",
    "add new data.</p>\n",
    "<p>Assume that the file structure is in a folder called '2016-05-18-data',\n",
    "which contains a <code>data</code> folder that in turn contains folders named <code>raw</code> and\n",
    "<code>processed</code> that contain data files.  The goal is to copy the file structure\n",
    "of the <code>2016-05-18-data</code> folder into a folder called <code>2016-05-20-data</code> and\n",
    "remove the data files from the directory you just created.</p>\n",
    "<p>Which of the following set of commands would achieve this objective?\n",
    "What would the other commands do?</p>\n",
    "<div class=\"codehilite\"><pre><span></span>$ cp -r <span class=\"m\">2016</span>-05-18-data/ <span class=\"m\">2016</span>-05-20-data/\n",
    "$ rm <span class=\"m\">2016</span>-05-20-data/raw/*\n",
    "$ rm <span class=\"m\">2016</span>-05-20-data/processed/*\n",
    "</pre></div>\n",
    "\n",
    "\n",
    "<div class=\"codehilite\"><pre><span></span>$ rm <span class=\"m\">2016</span>-05-20-data/raw/*\n",
    "$ rm <span class=\"m\">2016</span>-05-20-data/processed/*\n",
    "$ cp -r <span class=\"m\">2016</span>-05-18-data/ <span class=\"m\">2016</span>-5-20-data/\n",
    "</pre></div>\n",
    "\n",
    "\n",
    "<div class=\"codehilite\"><pre><span></span>$ cp -r <span class=\"m\">2016</span>-05-18-data/ <span class=\"m\">2016</span>-05-20-data/\n",
    "$ rm -r -i <span class=\"m\">2016</span>-05-20-data/\n",
    "</pre></div>\n",
    "\n",
    "</div>\n",
    "\n",
    "</section>\n"
   ]
  },
  {
   "cell_type": "markdown",
   "metadata": {},
   "source": [
    "\n",
    "<section class=\"solution panel panel-primary\">\n",
    "<div class=\"panel-heading\">\n",
    "<h2><span class=\"fa fa-eye\"></span> Solution</h2>\n",
    "</div>\n",
    "\n",
    "\n",
    "<div class=\"panel-body\">\n",
    "\n",
    "<p>The first set of commands achieves this objective.\n",
    "First we have a recursive copy of a data folder.\n",
    "Then two <code>rm</code> commands which remove all files in the specified directories.\n",
    "The shell expands the '*' wild card to match all files and subdirectories.</p>\n",
    "<p>The second set of commands have the wrong order: \n",
    "attempting to delete files which haven't yet been copied,\n",
    "followed by the recursive copy command which would copy them.</p>\n",
    "<p>The third set of commands would achieve the objective, but in a time-consuming way:\n",
    "the first command copies the directory recursively, but the second command deletes\n",
    "interactively, prompting for confirmation for each file and directory.</p>\n",
    "\n",
    "</div>\n",
    "\n",
    "</section>\n"
   ]
  },
  {
   "cell_type": "markdown",
   "metadata": {},
   "source": [
    "---\n",
    "The material in this notebook is derived from the Software Carpentry lessons\n",
    "&copy; [Software Carpentry](http://software-carpentry.org/) under the terms\n",
    "of the [CC-BY 4.0](https://creativecommons.org/licenses/by/4.0/) license."
   ]
  }
 ],
 "metadata": {
  "kernelspec": {
   "display_name": "Bash",
   "language": "bash",
   "name": "bash"
  },
  "language_info": {
   "codemirror_mode": "shell",
   "file_extension": ".sh",
   "mimetype": "text/x-sh",
   "name": "bash"
  },
  "name": "03-working-with-files-and-directories.ipynb",
  "swc_attribution": true
 },
 "nbformat": 4,
 "nbformat_minor": 2
}
