{
 "cells": [
  {
   "cell_type": "markdown",
   "metadata": {},
   "source": [
    "# Lessons"
   ]
  },
  {
   "cell_type": "markdown",
   "metadata": {},
   "source": [
    "These are the lessons for the Research Computing Summer School. All of the topics have their own section and each section is divided up into sessions, normally with one notebook per session."
   ]
  },
  {
   "cell_type": "markdown",
   "metadata": {},
   "source": [
    "## What you'll learn\n",
    "\n",
    "- lots of Python and scientific Python packages, but that's not the focus\n",
    "- main objective is to learn broadly applicable best-practices\n",
    "    - how to automate repetitive tasks\n",
    "    - how to track changes in code and papers, and combine sets of changes from different places"
   ]
  },
  {
   "cell_type": "markdown",
   "metadata": {},
   "source": [
    "## How we'll teach\n",
    "\n",
    "- code examples and challenges rather than traditional lectures\n",
    "- green and pink post-it notes to help us track progress\n",
    "    - green sticky when you're ready to move on\n",
    "    - pink sticky if you're stuck or have questions"
   ]
  },
  {
   "cell_type": "markdown",
   "metadata": {},
   "source": [
    "## When we'll teach\n",
    "\n",
    "- timetable is here: https://openastronomy.org/rcsc18/timetable/ (may be subject to minor changes throughout the week)\n",
    "- there's a group outing on Wednesday evening (leaving from the Courtyard at 5:30pm)\n",
    "- there's also a conference meal on Thursday at 7pm"
   ]
  }
 ],
 "metadata": {
  "kernelspec": {
   "display_name": "Python 3",
   "language": "python",
   "name": "python3"
  },
  "language_info": {
   "codemirror_mode": {
    "name": "ipython",
    "version": 3
   },
   "file_extension": ".py",
   "mimetype": "text/x-python",
   "name": "python",
   "nbconvert_exporter": "python",
   "pygments_lexer": "ipython3",
   "version": "3.6.6"
  }
 },
 "nbformat": 4,
 "nbformat_minor": 2
}
