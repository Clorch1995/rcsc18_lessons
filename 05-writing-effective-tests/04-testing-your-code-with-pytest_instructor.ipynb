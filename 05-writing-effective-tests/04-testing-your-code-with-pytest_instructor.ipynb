{
 "cells": [
  {
   "cell_type": "markdown",
   "metadata": {},
   "source": [
    "# Testing Code with pytest"
   ]
  },
  {
   "cell_type": "markdown",
   "metadata": {},
   "source": [
    "In this lesson we will be going over some of the things we've learned so far about testing and demonstrate a useful Python library which you can use to expand your tests. We will be writing two Python scripts, one with a few functions in, and one with our tests."
   ]
  },
  {
   "cell_type": "markdown",
   "metadata": {},
   "source": [
    "We start off with a couple of implementations of a function to generate the Fibonacci sequence."
   ]
  },
  {
   "cell_type": "code",
   "execution_count": null,
   "metadata": {},
   "outputs": [],
   "source": [
    "# %load fibonacci.py\n",
    "import numpy as np\n",
    "\n",
    "\n",
    "def fib(n):\n",
    "    fib = [0, 1]\n",
    "    while len(fib) < n+1:\n",
    "        fib.append(fib[-2] + fib[-1])\n",
    "    return fib[1:]\n",
    "\n",
    "\n",
    "def fib_numpy(n):\n",
    "    fib = np.zeros(n+1)\n",
    "    fib[1] = 1\n",
    "    for i in range(2, n+1):\n",
    "        fib[i] = fib[i-2] + fib[i-1]\n",
    "    return fib[1:]\n"
   ]
  },
  {
   "cell_type": "markdown",
   "metadata": {},
   "source": [
    "The next thing we are going to do is write a test file to test these implementations."
   ]
  },
  {
   "cell_type": "code",
   "execution_count": null,
   "metadata": {},
   "outputs": [],
   "source": [
    "# %load test_fibonacci.py\n",
    "import pytest\n",
    "\n",
    "import numpy as np\n",
    "\n",
    "from fibonacci import fib, fib_numpy\n",
    "\n",
    "\n",
    "def test_fib_10():\n",
    "    a = fib(10)\n",
    "    assert len(a) == 10\n",
    "    assert a == [1, 1, 2, 3, 5, 8, 13, 21, 34, 55]\n",
    "\n",
    "\n",
    "def test_fib_numpy_10():\n",
    "    a = fib_numpy(10)\n",
    "    assert len(a) == 10\n",
    "    assert np.allclose(a, [1, 1, 2, 3, 5, 8, 13, 21, 34, 55])\n",
    "\n",
    "\n",
    "@pytest.mark.parametrize(\"f_fib\", (fib, fib_numpy))\n",
    "def test_random_fib(f_fib):\n",
    "    n = np.random.randint(1, 1000)\n",
    "    a = f_fib(n)\n",
    "    n2 = np.random.randint(3, n)\n",
    "    assert a[n2] == a[n2-1] + a[n2-2]\n"
   ]
  },
  {
   "cell_type": "markdown",
   "metadata": {},
   "source": [
    "Next, let's add a third implementation of the Fibonacci sequence"
   ]
  },
  {
   "cell_type": "code",
   "execution_count": null,
   "metadata": {},
   "outputs": [],
   "source": [
    "def fib_recursive(n):\n",
    "    if n == 1 or n == 2:\n",
    "        return 2\n",
    "    return fib_recursive(n-1) + fib_recursive(n-1)\n",
    "\n",
    "def fib_3(n):\n",
    "    return [fib_recursive(i) for i in range(1, n)]"
   ]
  },
  {
   "cell_type": "code",
   "execution_count": null,
   "metadata": {},
   "outputs": [],
   "source": [
    "fib_3(10)"
   ]
  },
  {
   "cell_type": "markdown",
   "metadata": {},
   "source": [
    "\n",
    "<section class=\"challenge panel panel-success\">\n",
    "<div class=\"panel-heading\">\n",
    "<h2><span class=\"fa fa-pencil\"></span> Testing a Third Implementation</h2>\n",
    "</div>\n",
    "\n",
    "\n",
    "<div class=\"panel-body\">\n",
    "\n",
    "<p>Add this third implementation to the <code>fibonacci.py</code> file and write tests for it to find the bugs and compare it's output to the previous implementations.</p>\n",
    "\n",
    "</div>\n",
    "\n",
    "</section>\n"
   ]
  },
  {
   "cell_type": "markdown",
   "metadata": {},
   "source": [
    "\n",
    "<section class=\"solution panel panel-primary\">\n",
    "<div class=\"panel-heading\">\n",
    "<h2><span class=\"fa fa-eye\"></span> Solution</h2>\n",
    "</div>\n",
    "\n",
    "</section>\n"
   ]
  },
  {
   "cell_type": "markdown",
   "metadata": {},
   "source": [
    "The actual `fib_recursive` function should read:"
   ]
  },
  {
   "cell_type": "code",
   "execution_count": null,
   "metadata": {},
   "outputs": [],
   "source": [
    "def fib_recursive(n):\n",
    "    if n == 1 or n == 2:\n",
    "        return 1\n",
    "    return fib_recursive(n-1) + fib_recursive(n-2)"
   ]
  },
  {
   "cell_type": "markdown",
   "metadata": {},
   "source": [
    "This should also pass all the previous tests written. You may have also wanted to add tests that detect the `RecursionError` when $n==0$."
   ]
  },
  {
   "cell_type": "code",
   "execution_count": null,
   "metadata": {},
   "outputs": [],
   "source": [
    "def test_recursion_error():\n",
    "    with pytest.raises(RecursionError):\n",
    "        fib_recursive(0)"
   ]
  }
 ],
 "metadata": {
  "kernelspec": {
   "display_name": "Python 3",
   "language": "python",
   "name": "python3"
  },
  "language_info": {
   "codemirror_mode": {
    "name": "ipython",
    "version": 3
   },
   "file_extension": ".py",
   "mimetype": "text/x-python",
   "name": "python",
   "nbconvert_exporter": "python",
   "pygments_lexer": "ipython3",
   "version": "3.6.6"
  }
 },
 "nbformat": 4,
 "nbformat_minor": 2
}
